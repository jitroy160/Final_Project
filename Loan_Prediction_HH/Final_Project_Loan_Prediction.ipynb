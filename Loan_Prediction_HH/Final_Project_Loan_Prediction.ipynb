{
 "cells": [
  {
   "cell_type": "code",
   "execution_count": 1,
   "metadata": {},
   "outputs": [],
   "source": [
    "#Project 2 --- Loan_Prediction"
   ]
  },
  {
   "cell_type": "code",
   "execution_count": 82,
   "metadata": {},
   "outputs": [],
   "source": [
    "#1. Understanding the basic concepts of data\n",
    "\n",
    "import pandas as pd\n",
    "import numpy as np\n",
    "import matplotlib.pyplot as plt\n",
    "import warnings\n",
    "warnings.filterwarnings('ignore')"
   ]
  },
  {
   "cell_type": "code",
   "execution_count": 3,
   "metadata": {},
   "outputs": [],
   "source": [
    "trainingDataset = pd.read_csv(\"C://Users//hp//Desktop//Henry Harvin//Assignment #6//train.csv\")\n",
    "testingDataset = pd.read_csv(\"C://Users//hp//Desktop//Henry Harvin//Assignment #6//test.csv\")"
   ]
  },
  {
   "cell_type": "code",
   "execution_count": 5,
   "metadata": {},
   "outputs": [
    {
     "name": "stdout",
     "output_type": "stream",
     "text": [
      "    Loan_ID Gender Married Dependents     Education Self_Employed  \\\n",
      "0  LP001002   Male      No          0      Graduate            No   \n",
      "1  LP001003   Male     Yes          1      Graduate            No   \n",
      "2  LP001005   Male     Yes          0      Graduate           Yes   \n",
      "3  LP001006   Male     Yes          0  Not Graduate            No   \n",
      "4  LP001008   Male      No          0      Graduate            No   \n",
      "\n",
      "   ApplicantIncome  CoapplicantIncome  LoanAmount  Loan_Amount_Term  \\\n",
      "0             5849                0.0         NaN             360.0   \n",
      "1             4583             1508.0       128.0             360.0   \n",
      "2             3000                0.0        66.0             360.0   \n",
      "3             2583             2358.0       120.0             360.0   \n",
      "4             6000                0.0       141.0             360.0   \n",
      "\n",
      "   Credit_History Property_Area Loan_Status  \n",
      "0             1.0         Urban           Y  \n",
      "1             1.0         Rural           N  \n",
      "2             1.0         Urban           Y  \n",
      "3             1.0         Urban           Y  \n",
      "4             1.0         Urban           Y  \n"
     ]
    }
   ],
   "source": [
    "print (trainingDataset.head())"
   ]
  },
  {
   "cell_type": "code",
   "execution_count": 7,
   "metadata": {},
   "outputs": [],
   "source": [
    "com = pd.concat([trainingDataset, testingDataset],ignore_index=True, sort=False)"
   ]
  },
  {
   "cell_type": "code",
   "execution_count": 9,
   "metadata": {},
   "outputs": [
    {
     "name": "stdout",
     "output_type": "stream",
     "text": [
      "(981, 13)\n"
     ]
    }
   ],
   "source": [
    "print (com.shape)"
   ]
  },
  {
   "cell_type": "code",
   "execution_count": 10,
   "metadata": {},
   "outputs": [
    {
     "name": "stdout",
     "output_type": "stream",
     "text": [
      "Index(['Loan_ID', 'Gender', 'Married', 'Dependents', 'Education',\n",
      "       'Self_Employed', 'ApplicantIncome', 'CoapplicantIncome', 'LoanAmount',\n",
      "       'Loan_Amount_Term', 'Credit_History', 'Property_Area', 'Loan_Status'],\n",
      "      dtype='object')\n"
     ]
    }
   ],
   "source": [
    "print (com.columns)"
   ]
  },
  {
   "cell_type": "code",
   "execution_count": 11,
   "metadata": {},
   "outputs": [],
   "source": [
    "y = trainingDataset['Loan_Status']"
   ]
  },
  {
   "cell_type": "code",
   "execution_count": 12,
   "metadata": {},
   "outputs": [
    {
     "name": "stdout",
     "output_type": "stream",
     "text": [
      "TRAINING DATA DETAILS\n",
      "Total  number of records present in the dataset - 614\n",
      "Total  number of columns present in the dataset - 13\n"
     ]
    }
   ],
   "source": [
    "print (\"TRAINING DATA DETAILS\")\n",
    "print (\"Total  number of records present in the dataset -\", trainingDataset.shape[0])\n",
    "print (\"Total  number of columns present in the dataset -\", trainingDataset.shape[1])"
   ]
  },
  {
   "cell_type": "code",
   "execution_count": 13,
   "metadata": {},
   "outputs": [
    {
     "name": "stdout",
     "output_type": "stream",
     "text": [
      "\n",
      " TESTING DATA DETAILS\n",
      "Total  number of records present in the dataset - 367\n",
      "Total  number of columns present in the dataset - 12\n"
     ]
    }
   ],
   "source": [
    "print (\"\\n TESTING DATA DETAILS\")\n",
    "print (\"Total  number of records present in the dataset -\", testingDataset.shape[0])\n",
    "print (\"Total  number of columns present in the dataset -\", testingDataset.shape[1])"
   ]
  },
  {
   "cell_type": "code",
   "execution_count": 14,
   "metadata": {},
   "outputs": [
    {
     "name": "stdout",
     "output_type": "stream",
     "text": [
      "Following are the columns present in the dataset -  Index(['Loan_ID', 'Gender', 'Married', 'Dependents', 'Education',\n",
      "       'Self_Employed', 'ApplicantIncome', 'CoapplicantIncome', 'LoanAmount',\n",
      "       'Loan_Amount_Term', 'Credit_History', 'Property_Area', 'Loan_Status'],\n",
      "      dtype='object')\n",
      "Loan_ID               object\n",
      "Gender                object\n",
      "Married               object\n",
      "Dependents            object\n",
      "Education             object\n",
      "Self_Employed         object\n",
      "ApplicantIncome        int64\n",
      "CoapplicantIncome    float64\n",
      "LoanAmount           float64\n",
      "Loan_Amount_Term     float64\n",
      "Credit_History       float64\n",
      "Property_Area         object\n",
      "Loan_Status           object\n",
      "dtype: object\n"
     ]
    }
   ],
   "source": [
    "print (\"Following are the columns present in the dataset - \", trainingDataset.columns)\n",
    "print (trainingDataset.dtypes)"
   ]
  },
  {
   "cell_type": "code",
   "execution_count": 16,
   "metadata": {},
   "outputs": [
    {
     "name": "stdout",
     "output_type": "stream",
     "text": [
      "TOTAL NUMBER OF RECORDS IN THE COMBINED DATASET  -  981\n",
      "\n",
      "\n"
     ]
    }
   ],
   "source": [
    "print (\"TOTAL NUMBER OF RECORDS IN THE COMBINED DATASET  - \", com.shape[0])\n",
    "print (\"\\n\")"
   ]
  },
  {
   "cell_type": "code",
   "execution_count": 17,
   "metadata": {},
   "outputs": [
    {
     "name": "stdout",
     "output_type": "stream",
     "text": [
      "Number of value counts for - Gender\n",
      "Male      775\n",
      "Female    182\n",
      "Name: Gender, dtype: int64\n",
      "Number of Missing values: 24\n",
      "\n",
      "\n",
      "Number of value counts for - Married\n",
      "Yes    631\n",
      "No     347\n",
      "Name: Married, dtype: int64\n",
      "Number of Missing values: 3\n",
      "\n",
      "\n",
      "Number of value counts for - Dependents\n",
      "0     545\n",
      "2     160\n",
      "1     160\n",
      "3+     91\n",
      "Name: Dependents, dtype: int64\n",
      "Number of Missing values: 25\n",
      "\n",
      "\n",
      "Number of value counts for - Education\n",
      "Graduate        763\n",
      "Not Graduate    218\n",
      "Name: Education, dtype: int64\n",
      "Number of Missing values: 0\n",
      "\n",
      "\n",
      "Number of value counts for - Self_Employed\n",
      "No     807\n",
      "Yes    119\n",
      "Name: Self_Employed, dtype: int64\n",
      "Number of Missing values: 55\n",
      "\n",
      "\n",
      "Number of value counts for - Property_Area\n",
      "Semiurban    349\n",
      "Urban        342\n",
      "Rural        290\n",
      "Name: Property_Area, dtype: int64\n",
      "Number of Missing values: 0\n",
      "\n",
      "\n",
      "Number of value counts for - Loan_Status\n",
      "Y    422\n",
      "N    192\n",
      "Name: Loan_Status, dtype: int64\n",
      "Number of Missing values: 367\n",
      "\n",
      "\n"
     ]
    }
   ],
   "source": [
    "categoricalColNames = com.iloc[:,1:].select_dtypes(include=['object'])\n",
    "requiredCategoricalVariables = list(categoricalColNames.columns.values)\n",
    "for x in requiredCategoricalVariables:\n",
    "    print (\"Number of value counts for -\", x)\n",
    "    print (combined[x].value_counts())\n",
    "    print ('Number of Missing values: %d'% sum(com[x].isnull()))\n",
    "    print (\"\\n\")"
   ]
  },
  {
   "cell_type": "code",
   "execution_count": 18,
   "metadata": {},
   "outputs": [
    {
     "name": "stdout",
     "output_type": "stream",
     "text": [
      "Number of missing values in  ApplicantIncome : 0\n",
      "Number of missing values in  CoapplicantIncome : 0\n",
      "Number of missing values in  LoanAmount : 27\n",
      "Number of missing values in  Loan_Amount_Term : 20\n",
      "Number of missing values in  Credit_History : 79\n"
     ]
    }
   ],
   "source": [
    "numericalColNames = com.iloc[:,1:].select_dtypes(include=['int64','float64'])\n",
    "requiredCategoricalVariables = list(numericalColNames.columns.values)\n",
    "for x in requiredCategoricalVariables:\n",
    "    print ('Number of missing values in ', x ,': %d'% sum(com[x].isnull()))"
   ]
  },
  {
   "cell_type": "code",
   "execution_count": 19,
   "metadata": {},
   "outputs": [
    {
     "name": "stdout",
     "output_type": "stream",
     "text": [
      "<class 'pandas.core.frame.DataFrame'>\n",
      "RangeIndex: 981 entries, 0 to 980\n",
      "Data columns (total 13 columns):\n",
      "Loan_ID              981 non-null object\n",
      "Gender               957 non-null object\n",
      "Married              978 non-null object\n",
      "Dependents           956 non-null object\n",
      "Education            981 non-null object\n",
      "Self_Employed        926 non-null object\n",
      "ApplicantIncome      981 non-null int64\n",
      "CoapplicantIncome    981 non-null float64\n",
      "LoanAmount           954 non-null float64\n",
      "Loan_Amount_Term     961 non-null float64\n",
      "Credit_History       902 non-null float64\n",
      "Property_Area        981 non-null object\n",
      "Loan_Status          614 non-null object\n",
      "dtypes: float64(4), int64(1), object(8)\n",
      "memory usage: 99.7+ KB\n"
     ]
    }
   ],
   "source": [
    "com.info()"
   ]
  },
  {
   "cell_type": "code",
   "execution_count": 20,
   "metadata": {},
   "outputs": [
    {
     "data": {
      "text/html": [
       "<div>\n",
       "<style scoped>\n",
       "    .dataframe tbody tr th:only-of-type {\n",
       "        vertical-align: middle;\n",
       "    }\n",
       "\n",
       "    .dataframe tbody tr th {\n",
       "        vertical-align: top;\n",
       "    }\n",
       "\n",
       "    .dataframe thead th {\n",
       "        text-align: right;\n",
       "    }\n",
       "</style>\n",
       "<table border=\"1\" class=\"dataframe\">\n",
       "  <thead>\n",
       "    <tr style=\"text-align: right;\">\n",
       "      <th></th>\n",
       "      <th>Loan_ID</th>\n",
       "      <th>Gender</th>\n",
       "      <th>Married</th>\n",
       "      <th>Dependents</th>\n",
       "      <th>Education</th>\n",
       "      <th>Self_Employed</th>\n",
       "      <th>ApplicantIncome</th>\n",
       "      <th>CoapplicantIncome</th>\n",
       "      <th>LoanAmount</th>\n",
       "      <th>Loan_Amount_Term</th>\n",
       "      <th>Credit_History</th>\n",
       "      <th>Property_Area</th>\n",
       "      <th>Loan_Status</th>\n",
       "    </tr>\n",
       "  </thead>\n",
       "  <tbody>\n",
       "    <tr>\n",
       "      <th>0</th>\n",
       "      <td>LP001002</td>\n",
       "      <td>Male</td>\n",
       "      <td>No</td>\n",
       "      <td>0</td>\n",
       "      <td>Graduate</td>\n",
       "      <td>No</td>\n",
       "      <td>5849</td>\n",
       "      <td>0.0</td>\n",
       "      <td>NaN</td>\n",
       "      <td>360.0</td>\n",
       "      <td>1.0</td>\n",
       "      <td>Urban</td>\n",
       "      <td>Y</td>\n",
       "    </tr>\n",
       "    <tr>\n",
       "      <th>1</th>\n",
       "      <td>LP001003</td>\n",
       "      <td>Male</td>\n",
       "      <td>Yes</td>\n",
       "      <td>1</td>\n",
       "      <td>Graduate</td>\n",
       "      <td>No</td>\n",
       "      <td>4583</td>\n",
       "      <td>1508.0</td>\n",
       "      <td>128.0</td>\n",
       "      <td>360.0</td>\n",
       "      <td>1.0</td>\n",
       "      <td>Rural</td>\n",
       "      <td>N</td>\n",
       "    </tr>\n",
       "    <tr>\n",
       "      <th>2</th>\n",
       "      <td>LP001005</td>\n",
       "      <td>Male</td>\n",
       "      <td>Yes</td>\n",
       "      <td>0</td>\n",
       "      <td>Graduate</td>\n",
       "      <td>Yes</td>\n",
       "      <td>3000</td>\n",
       "      <td>0.0</td>\n",
       "      <td>66.0</td>\n",
       "      <td>360.0</td>\n",
       "      <td>1.0</td>\n",
       "      <td>Urban</td>\n",
       "      <td>Y</td>\n",
       "    </tr>\n",
       "    <tr>\n",
       "      <th>3</th>\n",
       "      <td>LP001006</td>\n",
       "      <td>Male</td>\n",
       "      <td>Yes</td>\n",
       "      <td>0</td>\n",
       "      <td>Not Graduate</td>\n",
       "      <td>No</td>\n",
       "      <td>2583</td>\n",
       "      <td>2358.0</td>\n",
       "      <td>120.0</td>\n",
       "      <td>360.0</td>\n",
       "      <td>1.0</td>\n",
       "      <td>Urban</td>\n",
       "      <td>Y</td>\n",
       "    </tr>\n",
       "    <tr>\n",
       "      <th>4</th>\n",
       "      <td>LP001008</td>\n",
       "      <td>Male</td>\n",
       "      <td>No</td>\n",
       "      <td>0</td>\n",
       "      <td>Graduate</td>\n",
       "      <td>No</td>\n",
       "      <td>6000</td>\n",
       "      <td>0.0</td>\n",
       "      <td>141.0</td>\n",
       "      <td>360.0</td>\n",
       "      <td>1.0</td>\n",
       "      <td>Urban</td>\n",
       "      <td>Y</td>\n",
       "    </tr>\n",
       "    <tr>\n",
       "      <th>0</th>\n",
       "      <td>LP001002</td>\n",
       "      <td>Male</td>\n",
       "      <td>No</td>\n",
       "      <td>0</td>\n",
       "      <td>Graduate</td>\n",
       "      <td>No</td>\n",
       "      <td>5849</td>\n",
       "      <td>0.0</td>\n",
       "      <td>NaN</td>\n",
       "      <td>360.0</td>\n",
       "      <td>1.0</td>\n",
       "      <td>Urban</td>\n",
       "      <td>Y</td>\n",
       "    </tr>\n",
       "    <tr>\n",
       "      <th>1</th>\n",
       "      <td>LP001003</td>\n",
       "      <td>Male</td>\n",
       "      <td>Yes</td>\n",
       "      <td>1</td>\n",
       "      <td>Graduate</td>\n",
       "      <td>No</td>\n",
       "      <td>4583</td>\n",
       "      <td>1508.0</td>\n",
       "      <td>128.0</td>\n",
       "      <td>360.0</td>\n",
       "      <td>1.0</td>\n",
       "      <td>Rural</td>\n",
       "      <td>N</td>\n",
       "    </tr>\n",
       "    <tr>\n",
       "      <th>2</th>\n",
       "      <td>LP001005</td>\n",
       "      <td>Male</td>\n",
       "      <td>Yes</td>\n",
       "      <td>0</td>\n",
       "      <td>Graduate</td>\n",
       "      <td>Yes</td>\n",
       "      <td>3000</td>\n",
       "      <td>0.0</td>\n",
       "      <td>66.0</td>\n",
       "      <td>360.0</td>\n",
       "      <td>1.0</td>\n",
       "      <td>Urban</td>\n",
       "      <td>Y</td>\n",
       "    </tr>\n",
       "  </tbody>\n",
       "</table>\n",
       "</div>"
      ],
      "text/plain": [
       "    Loan_ID Gender Married Dependents     Education Self_Employed  \\\n",
       "0  LP001002   Male      No          0      Graduate            No   \n",
       "1  LP001003   Male     Yes          1      Graduate            No   \n",
       "2  LP001005   Male     Yes          0      Graduate           Yes   \n",
       "3  LP001006   Male     Yes          0  Not Graduate            No   \n",
       "4  LP001008   Male      No          0      Graduate            No   \n",
       "0  LP001002   Male      No          0      Graduate            No   \n",
       "1  LP001003   Male     Yes          1      Graduate            No   \n",
       "2  LP001005   Male     Yes          0      Graduate           Yes   \n",
       "\n",
       "   ApplicantIncome  CoapplicantIncome  LoanAmount  Loan_Amount_Term  \\\n",
       "0             5849                0.0         NaN             360.0   \n",
       "1             4583             1508.0       128.0             360.0   \n",
       "2             3000                0.0        66.0             360.0   \n",
       "3             2583             2358.0       120.0             360.0   \n",
       "4             6000                0.0       141.0             360.0   \n",
       "0             5849                0.0         NaN             360.0   \n",
       "1             4583             1508.0       128.0             360.0   \n",
       "2             3000                0.0        66.0             360.0   \n",
       "\n",
       "   Credit_History Property_Area Loan_Status  \n",
       "0             1.0         Urban           Y  \n",
       "1             1.0         Rural           N  \n",
       "2             1.0         Urban           Y  \n",
       "3             1.0         Urban           Y  \n",
       "4             1.0         Urban           Y  \n",
       "0             1.0         Urban           Y  \n",
       "1             1.0         Rural           N  \n",
       "2             1.0         Urban           Y  "
      ]
     },
     "execution_count": 20,
     "metadata": {},
     "output_type": "execute_result"
    }
   ],
   "source": [
    "com.head(5).append(com.head(3))"
   ]
  },
  {
   "cell_type": "code",
   "execution_count": 21,
   "metadata": {},
   "outputs": [
    {
     "data": {
      "text/html": [
       "<div>\n",
       "<style scoped>\n",
       "    .dataframe tbody tr th:only-of-type {\n",
       "        vertical-align: middle;\n",
       "    }\n",
       "\n",
       "    .dataframe tbody tr th {\n",
       "        vertical-align: top;\n",
       "    }\n",
       "\n",
       "    .dataframe thead th {\n",
       "        text-align: right;\n",
       "    }\n",
       "</style>\n",
       "<table border=\"1\" class=\"dataframe\">\n",
       "  <thead>\n",
       "    <tr style=\"text-align: right;\">\n",
       "      <th></th>\n",
       "      <th>ApplicantIncome</th>\n",
       "      <th>CoapplicantIncome</th>\n",
       "      <th>LoanAmount</th>\n",
       "      <th>Loan_Amount_Term</th>\n",
       "      <th>Credit_History</th>\n",
       "    </tr>\n",
       "  </thead>\n",
       "  <tbody>\n",
       "    <tr>\n",
       "      <th>count</th>\n",
       "      <td>981.000000</td>\n",
       "      <td>981.000000</td>\n",
       "      <td>954.000000</td>\n",
       "      <td>961.000000</td>\n",
       "      <td>902.000000</td>\n",
       "    </tr>\n",
       "    <tr>\n",
       "      <th>mean</th>\n",
       "      <td>5179.795107</td>\n",
       "      <td>1601.916330</td>\n",
       "      <td>142.511530</td>\n",
       "      <td>342.201873</td>\n",
       "      <td>0.835920</td>\n",
       "    </tr>\n",
       "    <tr>\n",
       "      <th>std</th>\n",
       "      <td>5695.104533</td>\n",
       "      <td>2718.772806</td>\n",
       "      <td>77.421743</td>\n",
       "      <td>65.100602</td>\n",
       "      <td>0.370553</td>\n",
       "    </tr>\n",
       "    <tr>\n",
       "      <th>min</th>\n",
       "      <td>0.000000</td>\n",
       "      <td>0.000000</td>\n",
       "      <td>9.000000</td>\n",
       "      <td>6.000000</td>\n",
       "      <td>0.000000</td>\n",
       "    </tr>\n",
       "    <tr>\n",
       "      <th>25%</th>\n",
       "      <td>2875.000000</td>\n",
       "      <td>0.000000</td>\n",
       "      <td>100.000000</td>\n",
       "      <td>360.000000</td>\n",
       "      <td>1.000000</td>\n",
       "    </tr>\n",
       "    <tr>\n",
       "      <th>50%</th>\n",
       "      <td>3800.000000</td>\n",
       "      <td>1110.000000</td>\n",
       "      <td>126.000000</td>\n",
       "      <td>360.000000</td>\n",
       "      <td>1.000000</td>\n",
       "    </tr>\n",
       "    <tr>\n",
       "      <th>75%</th>\n",
       "      <td>5516.000000</td>\n",
       "      <td>2365.000000</td>\n",
       "      <td>162.000000</td>\n",
       "      <td>360.000000</td>\n",
       "      <td>1.000000</td>\n",
       "    </tr>\n",
       "    <tr>\n",
       "      <th>max</th>\n",
       "      <td>81000.000000</td>\n",
       "      <td>41667.000000</td>\n",
       "      <td>700.000000</td>\n",
       "      <td>480.000000</td>\n",
       "      <td>1.000000</td>\n",
       "    </tr>\n",
       "  </tbody>\n",
       "</table>\n",
       "</div>"
      ],
      "text/plain": [
       "       ApplicantIncome  CoapplicantIncome  LoanAmount  Loan_Amount_Term  \\\n",
       "count       981.000000         981.000000  954.000000        961.000000   \n",
       "mean       5179.795107        1601.916330  142.511530        342.201873   \n",
       "std        5695.104533        2718.772806   77.421743         65.100602   \n",
       "min           0.000000           0.000000    9.000000          6.000000   \n",
       "25%        2875.000000           0.000000  100.000000        360.000000   \n",
       "50%        3800.000000        1110.000000  126.000000        360.000000   \n",
       "75%        5516.000000        2365.000000  162.000000        360.000000   \n",
       "max       81000.000000       41667.000000  700.000000        480.000000   \n",
       "\n",
       "       Credit_History  \n",
       "count      902.000000  \n",
       "mean         0.835920  \n",
       "std          0.370553  \n",
       "min          0.000000  \n",
       "25%          1.000000  \n",
       "50%          1.000000  \n",
       "75%          1.000000  \n",
       "max          1.000000  "
      ]
     },
     "execution_count": 21,
     "metadata": {},
     "output_type": "execute_result"
    }
   ],
   "source": [
    "com.describe()"
   ]
  },
  {
   "cell_type": "code",
   "execution_count": 22,
   "metadata": {},
   "outputs": [
    {
     "data": {
      "text/plain": [
       "Index(['Loan_ID', 'Gender', 'Married', 'Dependents', 'Education',\n",
       "       'Self_Employed', 'ApplicantIncome', 'CoapplicantIncome', 'LoanAmount',\n",
       "       'Loan_Amount_Term', 'Credit_History', 'Property_Area', 'Loan_Status'],\n",
       "      dtype='object')"
      ]
     },
     "execution_count": 22,
     "metadata": {},
     "output_type": "execute_result"
    }
   ],
   "source": [
    "com.columns"
   ]
  },
  {
   "cell_type": "code",
   "execution_count": 23,
   "metadata": {},
   "outputs": [
    {
     "data": {
      "text/plain": [
       "RangeIndex(start=0, stop=981, step=1)"
      ]
     },
     "execution_count": 23,
     "metadata": {},
     "output_type": "execute_result"
    }
   ],
   "source": [
    "com.index"
   ]
  },
  {
   "cell_type": "code",
   "execution_count": 24,
   "metadata": {},
   "outputs": [],
   "source": [
    "### FILLING THE MISSING VALUES IN THE REQUIRED COLUMNS\n",
    "com['LoanAmount'].fillna(com['LoanAmount'].mean(), inplace=True)\n",
    "com['Loan_Amount_Term'].fillna(com['Loan_Amount_Term'].mean(), inplace=True)\n",
    "com['Self_Employed'].fillna('No',inplace=True)\n",
    "com['Married'].fillna('NA',inplace=True)\n",
    "com['Gender'].fillna('NA',inplace=True)\n",
    "com['Dependents'].fillna('0',inplace=True)\n",
    "com['Credit_History'].fillna(0,inplace=True)"
   ]
  },
  {
   "cell_type": "code",
   "execution_count": 25,
   "metadata": {},
   "outputs": [
    {
     "name": "stdout",
     "output_type": "stream",
     "text": [
      "Checking if there are any missing values in the dataset - \n",
      "column name  - Loan_ID\n",
      "Final #missing: 0\n",
      "\n",
      "\n",
      "column name  - Gender\n",
      "Final #missing: 0\n",
      "\n",
      "\n",
      "column name  - Married\n",
      "Final #missing: 0\n",
      "\n",
      "\n",
      "column name  - Dependents\n",
      "Final #missing: 0\n",
      "\n",
      "\n",
      "column name  - Education\n",
      "Final #missing: 0\n",
      "\n",
      "\n",
      "column name  - Self_Employed\n",
      "Final #missing: 0\n",
      "\n",
      "\n",
      "column name  - ApplicantIncome\n",
      "Final #missing: 0\n",
      "\n",
      "\n",
      "column name  - CoapplicantIncome\n",
      "Final #missing: 0\n",
      "\n",
      "\n",
      "column name  - LoanAmount\n",
      "Final #missing: 0\n",
      "\n",
      "\n",
      "column name  - Loan_Amount_Term\n",
      "Final #missing: 0\n",
      "\n",
      "\n",
      "column name  - Credit_History\n",
      "Final #missing: 0\n",
      "\n",
      "\n",
      "column name  - Property_Area\n",
      "Final #missing: 0\n",
      "\n",
      "\n",
      "column name  - Loan_Status\n",
      "Final #missing: 367\n",
      "\n",
      "\n"
     ]
    }
   ],
   "source": [
    "requiredColumns = list(com.columns.values)\n",
    "print (\"Checking if there are any missing values in the dataset - \")\n",
    "for col in requiredColumns:\n",
    "    print (\"column name  -\", col)\n",
    "    print ('Final #missing: %d'% sum(com[col].isnull()))\n",
    "    print (\"\\n\")"
   ]
  },
  {
   "cell_type": "code",
   "execution_count": 26,
   "metadata": {},
   "outputs": [
    {
     "data": {
      "image/png": "[encoded data removed]",
      "text/plain": [
       "<Figure size 864x864 with 2 Axes>"
      ]
     },
     "metadata": {
      "needs_background": "light"
     },
     "output_type": "display_data"
    }
   ],
   "source": [
    "import seaborn as sns\n",
    "plt.figure(figsize=(12,12))\n",
    "sns.heatmap(com.iloc[:, 2:].corr(), annot=True, square=True, cmap='BuPu')\n",
    "plt.show()"
   ]
  },
  {
   "cell_type": "code",
   "execution_count": 27,
   "metadata": {},
   "outputs": [
    {
     "data": {
      "image/png": "[encoded data removed]",
      "text/plain": [
       "<Figure size 1440x1440 with 5 Axes>"
      ]
     },
     "metadata": {
      "needs_background": "light"
     },
     "output_type": "display_data"
    }
   ],
   "source": [
    "plt.figure(figsize=(20,20))\n",
    "\n",
    "temp = trainingDataset.iloc[:,2:].select_dtypes(include=['int64','float64'])\n",
    "requiredColumns = list(temp.columns.values)\n",
    "counter = 1\n",
    "for col in requiredColumns:\n",
    "    plt.subplot(3, 3, counter)\n",
    "    trainingDataset[col].hist(color = 'green')\n",
    "    plt.title(col)\n",
    "    counter = counter + 1"
   ]
  },
  {
   "cell_type": "code",
   "execution_count": null,
   "metadata": {},
   "outputs": [],
   "source": [
    "#Lets understand the distributions of ApplicantIncome and LoanAmount. \n",
    "#Also Lets understand the categorical variables in more detail."
   ]
  },
  {
   "cell_type": "code",
   "execution_count": 29,
   "metadata": {},
   "outputs": [
    {
     "data": {
      "text/plain": [
       "<matplotlib.axes._subplots.AxesSubplot at 0x1cd5a1e7860>"
      ]
     },
     "execution_count": 29,
     "metadata": {},
     "output_type": "execute_result"
    },
    {
     "data": {
      "text/plain": [
       "<Figure size 720x720 with 0 Axes>"
      ]
     },
     "metadata": {},
     "output_type": "display_data"
    },
    {
     "data": {
      "image/png": "[encoded data removed]",
      "text/plain": [
       "<Figure size 432x288 with 1 Axes>"
      ]
     },
     "metadata": {
      "needs_background": "light"
     },
     "output_type": "display_data"
    }
   ],
   "source": [
    "plt.figure(figsize=(10,10))\n",
    "temp3 = pd.crosstab(trainingDataset['Credit_History'], trainingDataset['Loan_Status'])\n",
    "temp3.plot(kind='bar', stacked=True, color=['yellow','blue'], grid=False)"
   ]
  },
  {
   "cell_type": "code",
   "execution_count": 30,
   "metadata": {},
   "outputs": [
    {
     "name": "stdout",
     "output_type": "stream",
     "text": [
      "CONVERTED THE CATEGORICAL VARIABLES INTO NUMERICALS\n"
     ]
    }
   ],
   "source": [
    "nrow_train = trainingDataset.shape[0]\n",
    "X_train = com[:nrow_train]\n",
    "X_test = com[nrow_train:]\n",
    "from sklearn.preprocessing import LabelEncoder\n",
    "var_mod = ['Gender','Married','Education','Self_Employed','Property_Area','Loan_Status','Dependents']\n",
    "le = LabelEncoder()\n",
    "for i in var_mod:\n",
    "    X_train[i] = le.fit_transform(X_train[i])\n",
    "    X_test[i] = le.fit_transform(X_test[i])\n",
    "print (\"CONVERTED THE CATEGORICAL VARIABLES INTO NUMERICALS\")"
   ]
  },
  {
   "cell_type": "code",
   "execution_count": 31,
   "metadata": {},
   "outputs": [
    {
     "data": {
      "image/png": "[encoded data removed]",
      "text/plain": [
       "<Figure size 788.75x720 with 30 Axes>"
      ]
     },
     "metadata": {
      "needs_background": "light"
     },
     "output_type": "display_data"
    }
   ],
   "source": [
    "sns.pairplot(trainingDataset[trainingDataset.columns.values], hue='Loan_Status', diag_kind='kde', height=2);"
   ]
  },
  {
   "cell_type": "code",
   "execution_count": 32,
   "metadata": {},
   "outputs": [
    {
     "data": {
      "text/plain": [
       "<Figure size 720x720 with 0 Axes>"
      ]
     },
     "execution_count": 32,
     "metadata": {},
     "output_type": "execute_result"
    },
    {
     "data": {
      "text/plain": [
       "<Figure size 720x720 with 0 Axes>"
      ]
     },
     "metadata": {},
     "output_type": "display_data"
    }
   ],
   "source": [
    "### THE BOX PLOT SHOW THE OUTLIERS IN YOUR DATA. \n",
    "### AS YOU CAN SEE COLUMNS NAMED \"APPLICANT INCOME\" AND \"CO APPLICANT INCOME\" HAVE OUTLIERS\n",
    "temp = trainingDataset.iloc[:,2:].select_dtypes(include=['int64','float64'])\n",
    "requiredColumns = list(temp.columns.values)\n",
    "plt.figure(figsize=(10,10))"
   ]
  },
  {
   "cell_type": "code",
   "execution_count": 33,
   "metadata": {},
   "outputs": [
    {
     "data": {
      "text/plain": [
       "<matplotlib.axes._subplots.AxesSubplot at 0x1cd5c45c630>"
      ]
     },
     "execution_count": 33,
     "metadata": {},
     "output_type": "execute_result"
    },
    {
     "data": {
      "image/png": "[encoded data removed]",
      "text/plain": [
       "<Figure size 432x288 with 1 Axes>"
      ]
     },
     "metadata": {
      "needs_background": "light"
     },
     "output_type": "display_data"
    }
   ],
   "source": [
    "#trainingDataset[trainingDataset.columns.values].plot.box();\n",
    "sns.boxplot(data=X_train[requiredColumns], palette=\"Set2\")"
   ]
  },
  {
   "cell_type": "code",
   "execution_count": null,
   "metadata": {},
   "outputs": [],
   "source": [
    "#The above diagram tells us that there are outliers in columns such as \"Applicant Income\" and \"Co Applicant Income\""
   ]
  },
  {
   "cell_type": "code",
   "execution_count": 34,
   "metadata": {},
   "outputs": [],
   "source": [
    "from sklearn.linear_model import LogisticRegression\n",
    "from sklearn.model_selection import KFold, cross_val_score, train_test_split #For K-fold cross validation\n",
    "\n",
    "from sklearn import metrics\n",
    "X = X_train.iloc[:, 2:11].values\n",
    "y = X_train.iloc[:, 12].values"
   ]
  },
  {
   "cell_type": "code",
   "execution_count": 35,
   "metadata": {},
   "outputs": [
    {
     "name": "stderr",
     "output_type": "stream",
     "text": [
      "C:\\ProgramData\\Anaconda3\\lib\\site-packages\\sklearn\\linear_model\\sag.py:334: ConvergenceWarning: The max_iter was reached which means the coef_ did not converge\n",
      "  \"the coef_ did not converge\", ConvergenceWarning)\n"
     ]
    },
    {
     "data": {
      "text/plain": [
       "LogisticRegression(C=1.0, class_weight=None, dual=False, fit_intercept=True,\n",
       "          intercept_scaling=1, max_iter=100, multi_class='warn',\n",
       "          n_jobs=None, penalty='l2', random_state=None, solver='sag',\n",
       "          tol=0.0001, verbose=0, warm_start=False)"
      ]
     },
     "execution_count": 35,
     "metadata": {},
     "output_type": "execute_result"
    }
   ],
   "source": [
    "#X = X.reshape(X.shape[0],1)\n",
    "X_tr,X_te,y_tr,y_te = train_test_split(X,y,test_size=0.20, random_state=0)\n",
    "LR_model = LogisticRegression(solver='sag')\n",
    "LR_model.fit(X_tr,y_tr)\n"
   ]
  },
  {
   "cell_type": "code",
   "execution_count": 36,
   "metadata": {},
   "outputs": [],
   "source": [
    "#Make predictions on training set:\n",
    "predictions = LR_model.predict(X_te)"
   ]
  },
  {
   "cell_type": "code",
   "execution_count": 37,
   "metadata": {},
   "outputs": [
    {
     "name": "stdout",
     "output_type": "stream",
     "text": [
      "Accuracy : 73.171%\n"
     ]
    }
   ],
   "source": [
    "#Print accuracy\n",
    "accuracy = metrics.accuracy_score(predictions,y_te)\n",
    "print (\"Accuracy : %s\" % \"{0:.3%}\".format(accuracy))"
   ]
  },
  {
   "cell_type": "code",
   "execution_count": 38,
   "metadata": {},
   "outputs": [
    {
     "name": "stdout",
     "output_type": "stream",
     "text": [
      "\n",
      " Classification report for classifier LogisticRegression(C=1.0, class_weight=None, dual=False, fit_intercept=True,\n",
      "          intercept_scaling=1, max_iter=100, multi_class='warn',\n",
      "          n_jobs=None, penalty='l2', random_state=None, solver='sag',\n",
      "          tol=0.0001, verbose=0, warm_start=False):\n",
      "              precision    recall  f1-score   support\n",
      "\n",
      "           0       0.00      0.00      0.00        33\n",
      "           1       0.73      1.00      0.85        90\n",
      "\n",
      "   micro avg       0.73      0.73      0.73       123\n",
      "   macro avg       0.37      0.50      0.42       123\n",
      "weighted avg       0.54      0.73      0.62       123\n",
      "\n",
      "\n"
     ]
    },
    {
     "name": "stderr",
     "output_type": "stream",
     "text": [
      "C:\\ProgramData\\Anaconda3\\lib\\site-packages\\sklearn\\metrics\\classification.py:1143: UndefinedMetricWarning: Precision and F-score are ill-defined and being set to 0.0 in labels with no predicted samples.\n",
      "  'precision', 'predicted', average, warn_for)\n",
      "C:\\ProgramData\\Anaconda3\\lib\\site-packages\\sklearn\\metrics\\classification.py:1143: UndefinedMetricWarning: Precision and F-score are ill-defined and being set to 0.0 in labels with no predicted samples.\n",
      "  'precision', 'predicted', average, warn_for)\n",
      "C:\\ProgramData\\Anaconda3\\lib\\site-packages\\sklearn\\metrics\\classification.py:1143: UndefinedMetricWarning: Precision and F-score are ill-defined and being set to 0.0 in labels with no predicted samples.\n",
      "  'precision', 'predicted', average, warn_for)\n"
     ]
    }
   ],
   "source": [
    "print(\"\\n Classification report for classifier %s:\\n%s\\n\"\n",
    "      % (LR_model, metrics.classification_report(y_te, predictions)))"
   ]
  },
  {
   "cell_type": "code",
   "execution_count": 41,
   "metadata": {},
   "outputs": [
    {
     "name": "stdout",
     "output_type": "stream",
     "text": [
      "Confusion matrix:\n",
      "[[ 0 33]\n",
      " [ 0 90]]\n"
     ]
    }
   ],
   "source": [
    "print(\"Confusion matrix:\\n%s\" % metrics.confusion_matrix(y_te, predictions))\n",
    "count = 0"
   ]
  },
  {
   "cell_type": "code",
   "execution_count": 42,
   "metadata": {},
   "outputs": [
    {
     "name": "stdout",
     "output_type": "stream",
     "text": [
      "TOTAL NUMBER OF TESTING RECORD -  123\n"
     ]
    }
   ],
   "source": [
    "print (\"TOTAL NUMBER OF TESTING RECORD - \",X_te.shape[0])\n",
    "for x in range(len(X_te)):\n",
    "    if(y_te[x] == predictions[x]):\n",
    "        count = count + 1"
   ]
  },
  {
   "cell_type": "code",
   "execution_count": 43,
   "metadata": {},
   "outputs": [
    {
     "name": "stdout",
     "output_type": "stream",
     "text": [
      "NUMBER OF CORRECTLY PREDICTED OUTPUTS -  90\n",
      "\n",
      "\n"
     ]
    }
   ],
   "source": [
    "print (\"NUMBER OF CORRECTLY PREDICTED OUTPUTS - \",count)\n",
    "print(\"\\n\")"
   ]
  },
  {
   "cell_type": "code",
   "execution_count": 44,
   "metadata": {},
   "outputs": [
    {
     "name": "stdout",
     "output_type": "stream",
     "text": [
      "TESTING RECORD -  [1.000e+00 0.000e+00 0.000e+00 1.000e+00 7.085e+03 0.000e+00 8.400e+01\n",
      " 3.600e+02 1.000e+00]\n",
      "ACTUAL OUTPUT -  1\n",
      "PREDICTED OUTPUT -  1\n",
      "_________________________________\n",
      "TESTING RECORD -  [2.000e+00 0.000e+00 0.000e+00 0.000e+00 6.133e+03 3.906e+03 3.240e+02\n",
      " 3.600e+02 1.000e+00]\n",
      "ACTUAL OUTPUT -  1\n",
      "PREDICTED OUTPUT -  1\n",
      "_________________________________\n",
      "TESTING RECORD -  [2.000e+00 2.000e+00 0.000e+00 0.000e+00 2.708e+03 1.167e+03 9.700e+01\n",
      " 3.600e+02 1.000e+00]\n",
      "ACTUAL OUTPUT -  1\n",
      "PREDICTED OUTPUT -  1\n",
      "_________________________________\n"
     ]
    }
   ],
   "source": [
    "for x in range(0,5):\n",
    "    if(y_te[x] == predictions[x]):\n",
    "        print (\"TESTING RECORD - \",X_te[x])\n",
    "        print (\"ACTUAL OUTPUT - \", y_te[x])\n",
    "        print (\"PREDICTED OUTPUT - \",predictions[x])\n",
    "        print (\"_________________________________\")"
   ]
  },
  {
   "cell_type": "code",
   "execution_count": 45,
   "metadata": {},
   "outputs": [],
   "source": [
    "temp = trainingDataset.iloc[:,2:11]\n",
    "requiredColumns = list(temp.columns.values)"
   ]
  },
  {
   "cell_type": "code",
   "execution_count": 46,
   "metadata": {},
   "outputs": [
    {
     "name": "stdout",
     "output_type": "stream",
     "text": [
      "['Married', 'Dependents', 'Education', 'Self_Employed', 'ApplicantIncome', 'CoapplicantIncome', 'LoanAmount', 'Loan_Amount_Term', 'Credit_History']\n"
     ]
    }
   ],
   "source": [
    "print (requiredColumns)"
   ]
  },
  {
   "cell_type": "code",
   "execution_count": 47,
   "metadata": {},
   "outputs": [],
   "source": [
    "FinalData = list(zip(X_te, y_te, predictions))"
   ]
  },
  {
   "cell_type": "code",
   "execution_count": 48,
   "metadata": {},
   "outputs": [
    {
     "name": "stdout",
     "output_type": "stream",
     "text": [
      "(array([1.000e+00, 0.000e+00, 0.000e+00, 1.000e+00, 7.085e+03, 0.000e+00,\n",
      "       8.400e+01, 3.600e+02, 1.000e+00]), 1, 1)\n"
     ]
    }
   ],
   "source": [
    "print (FinalData[0])"
   ]
  },
  {
   "cell_type": "code",
   "execution_count": 49,
   "metadata": {},
   "outputs": [],
   "source": [
    "my_submission = pd.DataFrame( X_te, columns=[requiredColumns])\n",
    "my_submission['Actual_Loan_Status'] = y_te\n",
    "my_submission['Predicted_Loan_Status'] = predictions\n",
    "my_submission.head()\n",
    "my_submission.to_csv('LoanPredictionSubmissions.csv', index=False)"
   ]
  },
  {
   "cell_type": "code",
   "execution_count": 50,
   "metadata": {},
   "outputs": [],
   "source": [
    "#Import models from scikit learn module:\n",
    "from sklearn.linear_model import LogisticRegression\n",
    "from sklearn.model_selection import KFold, cross_val_score, train_test_split #For K-fold cross validation"
   ]
  },
  {
   "cell_type": "code",
   "execution_count": 51,
   "metadata": {},
   "outputs": [],
   "source": [
    "from sklearn import metrics"
   ]
  },
  {
   "cell_type": "code",
   "execution_count": 52,
   "metadata": {},
   "outputs": [],
   "source": [
    "model = LogisticRegression(solver='sag')\n",
    "X = X_train.iloc[:, 10:11].values\n",
    "y = X_train.iloc[:, 12].values"
   ]
  },
  {
   "cell_type": "code",
   "execution_count": 53,
   "metadata": {},
   "outputs": [
    {
     "data": {
      "text/plain": [
       "LogisticRegression(C=1.0, class_weight=None, dual=False, fit_intercept=True,\n",
       "          intercept_scaling=1, max_iter=100, multi_class='warn',\n",
       "          n_jobs=None, penalty='l2', random_state=None, solver='sag',\n",
       "          tol=0.0001, verbose=0, warm_start=False)"
      ]
     },
     "execution_count": 53,
     "metadata": {},
     "output_type": "execute_result"
    }
   ],
   "source": [
    "#X = X.reshape(X.shape[0],1)\n",
    "X_tr,X_te,y_tr,y_te = train_test_split(X,y,test_size=0.25,random_state=0)\n",
    "model.fit(X_tr,y_tr)\n"
   ]
  },
  {
   "cell_type": "code",
   "execution_count": 54,
   "metadata": {},
   "outputs": [],
   "source": [
    "#Make predictions on training set:\n",
    "predictions = model.predict(X_te)"
   ]
  },
  {
   "cell_type": "code",
   "execution_count": 55,
   "metadata": {},
   "outputs": [
    {
     "name": "stdout",
     "output_type": "stream",
     "text": [
      "Accuracy : 79.221%\n"
     ]
    }
   ],
   "source": [
    "#Print accuracy\n",
    "accuracy = metrics.accuracy_score(predictions,y_te)\n",
    "print (\"Accuracy : %s\" % \"{0:.3%}\".format(accuracy))"
   ]
  },
  {
   "cell_type": "code",
   "execution_count": 56,
   "metadata": {},
   "outputs": [
    {
     "name": "stdout",
     "output_type": "stream",
     "text": [
      "\n",
      " Classification report for classifier LogisticRegression(C=1.0, class_weight=None, dual=False, fit_intercept=True,\n",
      "          intercept_scaling=1, max_iter=100, multi_class='warn',\n",
      "          n_jobs=None, penalty='l2', random_state=None, solver='sag',\n",
      "          tol=0.0001, verbose=0, warm_start=False):\n",
      "              precision    recall  f1-score   support\n",
      "\n",
      "           0       0.67      0.51      0.58        43\n",
      "           1       0.83      0.90      0.86       111\n",
      "\n",
      "   micro avg       0.79      0.79      0.79       154\n",
      "   macro avg       0.75      0.71      0.72       154\n",
      "weighted avg       0.78      0.79      0.78       154\n",
      "\n",
      "\n"
     ]
    }
   ],
   "source": [
    "print(\"\\n Classification report for classifier %s:\\n%s\\n\"\n",
    "      % (model, metrics.classification_report(y_te, predictions)))"
   ]
  },
  {
   "cell_type": "code",
   "execution_count": 57,
   "metadata": {},
   "outputs": [
    {
     "name": "stdout",
     "output_type": "stream",
     "text": [
      "Confusion matrix:\n",
      "[[ 22  21]\n",
      " [ 11 100]]\n"
     ]
    }
   ],
   "source": [
    "print(\"Confusion matrix:\\n%s\" % metrics.confusion_matrix(y_te, predictions))\n",
    "count = 0"
   ]
  },
  {
   "cell_type": "code",
   "execution_count": 58,
   "metadata": {},
   "outputs": [
    {
     "name": "stdout",
     "output_type": "stream",
     "text": [
      "TOTAL NUMBER OF TESTING RECORD -  154\n"
     ]
    }
   ],
   "source": [
    "print (\"TOTAL NUMBER OF TESTING RECORD - \",X_te.shape[0])"
   ]
  },
  {
   "cell_type": "code",
   "execution_count": 59,
   "metadata": {},
   "outputs": [],
   "source": [
    "for x in range(len(X_te)):\n",
    "    if(y_te[x] == predictions[x]):\n",
    "        count = count + 1"
   ]
  },
  {
   "cell_type": "code",
   "execution_count": 60,
   "metadata": {},
   "outputs": [
    {
     "name": "stdout",
     "output_type": "stream",
     "text": [
      "NUMBER OF CORRECTLY PREDICTED OUTPUTS -  122\n",
      "\n",
      "\n"
     ]
    }
   ],
   "source": [
    "print (\"NUMBER OF CORRECTLY PREDICTED OUTPUTS - \",count)\n",
    "print(\"\\n\")"
   ]
  },
  {
   "cell_type": "code",
   "execution_count": 61,
   "metadata": {},
   "outputs": [
    {
     "name": "stdout",
     "output_type": "stream",
     "text": [
      "TESTING RECORD -  [1.]\n",
      "ACTUAL OUTPUT -  1\n",
      "PREDICTED OUTPUT -  1\n",
      "_________________________________\n",
      "TESTING RECORD -  [1.]\n",
      "ACTUAL OUTPUT -  1\n",
      "PREDICTED OUTPUT -  1\n",
      "_________________________________\n",
      "TESTING RECORD -  [1.]\n",
      "ACTUAL OUTPUT -  1\n",
      "PREDICTED OUTPUT -  1\n",
      "_________________________________\n"
     ]
    }
   ],
   "source": [
    "for x in range(0,5):\n",
    "    if(y_te[x] == predictions[x]):\n",
    "        print (\"TESTING RECORD - \",X_te[x])\n",
    "        print (\"ACTUAL OUTPUT - \", y_te[x])\n",
    "        print (\"PREDICTED OUTPUT - \",predictions[x])\n",
    "        print (\"_________________________________\")"
   ]
  },
  {
   "cell_type": "code",
   "execution_count": 62,
   "metadata": {},
   "outputs": [
    {
     "data": {
      "text/plain": [
       "[Text(0, 0, 'Loan Not Approved'), Text(0, 0, 'Loan Approved')]"
      ]
     },
     "execution_count": 62,
     "metadata": {},
     "output_type": "execute_result"
    },
    {
     "data": {
      "image/png": "[encoded data removed]",
      "text/plain": [
       "<Figure size 864x432 with 1 Axes>"
      ]
     },
     "metadata": {},
     "output_type": "display_data"
    }
   ],
   "source": [
    "import seaborn as sns\n",
    "sns.set(style=\"darkgrid\")\n",
    "plt.figure(figsize=(12,6))\n",
    "ax = sns.countplot(x=predictions)\n",
    "ax.set_xticklabels([\"Loan Not Approved\",\"Loan Approved\"])"
   ]
  },
  {
   "cell_type": "code",
   "execution_count": 63,
   "metadata": {},
   "outputs": [
    {
     "name": "stdout",
     "output_type": "stream",
     "text": [
      "FOLLOWING IS THE COUNTPLOT DISPLAYING THE PREDICTIONS - \n"
     ]
    }
   ],
   "source": [
    "print (\"FOLLOWING IS THE COUNTPLOT DISPLAYING THE PREDICTIONS - \")"
   ]
  },
  {
   "cell_type": "code",
   "execution_count": 64,
   "metadata": {},
   "outputs": [],
   "source": [
    "from sklearn.ensemble import RandomForestClassifier\n",
    "rf_model = RandomForestClassifier()\n",
    "rf_model.fit(X_tr,y_tr)\n",
    "predictions = rf_model.predict(X_te)"
   ]
  },
  {
   "cell_type": "code",
   "execution_count": 65,
   "metadata": {},
   "outputs": [
    {
     "name": "stdout",
     "output_type": "stream",
     "text": [
      "Accuracy : 79.221%\n"
     ]
    }
   ],
   "source": [
    "#Print accuracy\n",
    "accuracy = metrics.accuracy_score(predictions,y_te)\n",
    "print (\"Accuracy : %s\" % \"{0:.3%}\".format(accuracy))"
   ]
  },
  {
   "cell_type": "code",
   "execution_count": 66,
   "metadata": {},
   "outputs": [
    {
     "name": "stdout",
     "output_type": "stream",
     "text": [
      "\n",
      " Classification report for classifier LogisticRegression(C=1.0, class_weight=None, dual=False, fit_intercept=True,\n",
      "          intercept_scaling=1, max_iter=100, multi_class='warn',\n",
      "          n_jobs=None, penalty='l2', random_state=None, solver='sag',\n",
      "          tol=0.0001, verbose=0, warm_start=False):\n",
      "              precision    recall  f1-score   support\n",
      "\n",
      "           0       0.67      0.51      0.58        43\n",
      "           1       0.83      0.90      0.86       111\n",
      "\n",
      "   micro avg       0.79      0.79      0.79       154\n",
      "   macro avg       0.75      0.71      0.72       154\n",
      "weighted avg       0.78      0.79      0.78       154\n",
      "\n",
      "\n"
     ]
    }
   ],
   "source": [
    "print(\"\\n Classification report for classifier %s:\\n%s\\n\"\n",
    "      % (model, metrics.classification_report(y_te, predictions)))"
   ]
  },
  {
   "cell_type": "code",
   "execution_count": 67,
   "metadata": {},
   "outputs": [
    {
     "name": "stdout",
     "output_type": "stream",
     "text": [
      "Confusion matrix:\n",
      "[[ 22  21]\n",
      " [ 11 100]]\n"
     ]
    }
   ],
   "source": [
    "print(\"Confusion matrix:\\n%s\" % metrics.confusion_matrix(y_te, predictions))\n",
    "count = 0"
   ]
  },
  {
   "cell_type": "code",
   "execution_count": 68,
   "metadata": {},
   "outputs": [
    {
     "name": "stdout",
     "output_type": "stream",
     "text": [
      "TOTAL NUMBER OF TESTING RECORD -  154\n"
     ]
    }
   ],
   "source": [
    "print (\"TOTAL NUMBER OF TESTING RECORD - \",X_te.shape[0])"
   ]
  },
  {
   "cell_type": "code",
   "execution_count": 69,
   "metadata": {},
   "outputs": [],
   "source": [
    "for x in range(len(X_te)):\n",
    "    if(y_te[x] == predictions[x]):\n",
    "        count = count + 1"
   ]
  },
  {
   "cell_type": "code",
   "execution_count": 70,
   "metadata": {},
   "outputs": [
    {
     "name": "stdout",
     "output_type": "stream",
     "text": [
      "NUMBER OF CORRECTLY PREDICTED OUTPUTS -  122\n",
      "\n",
      "\n"
     ]
    }
   ],
   "source": [
    "print (\"NUMBER OF CORRECTLY PREDICTED OUTPUTS - \",count)\n",
    "print(\"\\n\")"
   ]
  },
  {
   "cell_type": "code",
   "execution_count": 71,
   "metadata": {},
   "outputs": [
    {
     "name": "stdout",
     "output_type": "stream",
     "text": [
      "TESTING RECORD -  [1.]\n",
      "ACTUAL OUTPUT -  1\n",
      "PREDICTED OUTPUT -  1\n",
      "_________________________________\n",
      "TESTING RECORD -  [1.]\n",
      "ACTUAL OUTPUT -  1\n",
      "PREDICTED OUTPUT -  1\n",
      "_________________________________\n",
      "TESTING RECORD -  [1.]\n",
      "ACTUAL OUTPUT -  1\n",
      "PREDICTED OUTPUT -  1\n",
      "_________________________________\n"
     ]
    }
   ],
   "source": [
    "for x in range(0,5):\n",
    "    if(y_te[x] == predictions[x]):\n",
    "        print (\"TESTING RECORD - \",X_te[x])\n",
    "        print (\"ACTUAL OUTPUT - \", y_te[x])\n",
    "        print (\"PREDICTED OUTPUT - \",predictions[x])\n",
    "        print (\"_________________________________\")"
   ]
  },
  {
   "cell_type": "code",
   "execution_count": 72,
   "metadata": {},
   "outputs": [
    {
     "data": {
      "text/plain": [
       "[Text(0, 0, 'Loan Not Approved'), Text(0, 0, 'Loan Approved')]"
      ]
     },
     "execution_count": 72,
     "metadata": {},
     "output_type": "execute_result"
    },
    {
     "data": {
      "image/png": "[encoded data removed]",
      "text/plain": [
       "<Figure size 864x432 with 1 Axes>"
      ]
     },
     "metadata": {},
     "output_type": "display_data"
    }
   ],
   "source": [
    "import seaborn as sns\n",
    "sns.set(style=\"darkgrid\")\n",
    "plt.figure(figsize=(12,6))\n",
    "ax = sns.countplot(x=predictions)\n",
    "ax.set_xticklabels([\"Loan Not Approved\",\"Loan Approved\"])"
   ]
  },
  {
   "cell_type": "code",
   "execution_count": 73,
   "metadata": {},
   "outputs": [
    {
     "name": "stdout",
     "output_type": "stream",
     "text": [
      "FOLLOWING IS THE COUNTPLOT DISPLAYING THE PREDICTIONS - \n"
     ]
    }
   ],
   "source": [
    "print (\"FOLLOWING IS THE COUNTPLOT DISPLAYING THE PREDICTIONS - \")"
   ]
  },
  {
   "cell_type": "code",
   "execution_count": 74,
   "metadata": {},
   "outputs": [],
   "source": [
    "from sklearn import tree\n",
    "clf = tree.DecisionTreeClassifier()\n",
    "clf.fit(X_tr,y_tr)\n",
    "predictions = clf.predict(X_te)"
   ]
  },
  {
   "cell_type": "code",
   "execution_count": 75,
   "metadata": {},
   "outputs": [
    {
     "name": "stdout",
     "output_type": "stream",
     "text": [
      "Accuracy : 79.221%\n"
     ]
    }
   ],
   "source": [
    "#Print accuracy\n",
    "accuracy = metrics.accuracy_score(predictions,y_te)\n",
    "print (\"Accuracy : %s\" % \"{0:.3%}\".format(accuracy))"
   ]
  },
  {
   "cell_type": "code",
   "execution_count": 76,
   "metadata": {},
   "outputs": [
    {
     "name": "stdout",
     "output_type": "stream",
     "text": [
      "\n",
      " Classification report for classifier DecisionTreeClassifier(class_weight=None, criterion='gini', max_depth=None,\n",
      "            max_features=None, max_leaf_nodes=None,\n",
      "            min_impurity_decrease=0.0, min_impurity_split=None,\n",
      "            min_samples_leaf=1, min_samples_split=2,\n",
      "            min_weight_fraction_leaf=0.0, presort=False, random_state=None,\n",
      "            splitter='best'):\n",
      "              precision    recall  f1-score   support\n",
      "\n",
      "           0       0.67      0.51      0.58        43\n",
      "           1       0.83      0.90      0.86       111\n",
      "\n",
      "   micro avg       0.79      0.79      0.79       154\n",
      "   macro avg       0.75      0.71      0.72       154\n",
      "weighted avg       0.78      0.79      0.78       154\n",
      "\n",
      "\n"
     ]
    }
   ],
   "source": [
    "print(\"\\n Classification report for classifier %s:\\n%s\\n\"\n",
    "      % (clf, metrics.classification_report(y_te, predictions)))"
   ]
  },
  {
   "cell_type": "code",
   "execution_count": 77,
   "metadata": {},
   "outputs": [
    {
     "name": "stdout",
     "output_type": "stream",
     "text": [
      "Confusion matrix:\n",
      "[[ 22  21]\n",
      " [ 11 100]]\n"
     ]
    }
   ],
   "source": [
    "print(\"Confusion matrix:\\n%s\" % metrics.confusion_matrix(y_te, predictions))\n",
    "count = 0"
   ]
  },
  {
   "cell_type": "code",
   "execution_count": 78,
   "metadata": {},
   "outputs": [
    {
     "name": "stdout",
     "output_type": "stream",
     "text": [
      "TOTAL NUMBER OF TESTING RECORD -  154\n"
     ]
    }
   ],
   "source": [
    "print (\"TOTAL NUMBER OF TESTING RECORD - \",X_te.shape[0])"
   ]
  },
  {
   "cell_type": "code",
   "execution_count": 79,
   "metadata": {},
   "outputs": [],
   "source": [
    "for x in range(len(X_te)):\n",
    "    if(y_te[x] == predictions[x]):\n",
    "        count = count + 1"
   ]
  },
  {
   "cell_type": "code",
   "execution_count": 80,
   "metadata": {},
   "outputs": [
    {
     "name": "stdout",
     "output_type": "stream",
     "text": [
      "NUMBER OF CORRECTLY PREDICTED OUTPUTS -  122\n",
      "\n",
      "\n"
     ]
    }
   ],
   "source": [
    "print (\"NUMBER OF CORRECTLY PREDICTED OUTPUTS - \",count)\n",
    "print(\"\\n\")"
   ]
  },
  {
   "cell_type": "code",
   "execution_count": 83,
   "metadata": {},
   "outputs": [
    {
     "name": "stdout",
     "output_type": "stream",
     "text": [
      "TESTING RECORD -  [1.]\n",
      "ACTUAL OUTPUT -  1\n",
      "PREDICTED OUTPUT -  1\n",
      "_________________________________\n",
      "TESTING RECORD -  [1.]\n",
      "ACTUAL OUTPUT -  1\n",
      "PREDICTED OUTPUT -  1\n",
      "_________________________________\n",
      "TESTING RECORD -  [1.]\n",
      "ACTUAL OUTPUT -  1\n",
      "PREDICTED OUTPUT -  1\n",
      "_________________________________\n"
     ]
    }
   ],
   "source": [
    "for x in range(0,5):\n",
    "    if(y_te[x] == predictions[x]):\n",
    "        print (\"TESTING RECORD - \",X_te[x])\n",
    "        print (\"ACTUAL OUTPUT - \", y_te[x])\n",
    "        print (\"PREDICTED OUTPUT - \",predictions[x])\n",
    "        print (\"_________________________________\")"
   ]
  },
  {
   "cell_type": "code",
   "execution_count": null,
   "metadata": {},
   "outputs": [],
   "source": []
  }
 ],
 "metadata": {
  "kernelspec": {
   "display_name": "Python 3",
   "language": "python",
   "name": "python3"
  },
  "language_info": {
   "codemirror_mode": {
    "name": "ipython",
    "version": 3
   },
   "file_extension": ".py",
   "mimetype": "text/x-python",
   "name": "python",
   "nbconvert_exporter": "python",
   "pygments_lexer": "ipython3",
   "version": "3.7.3"
  }
 },
 "nbformat": 4,
 "nbformat_minor": 2
}
